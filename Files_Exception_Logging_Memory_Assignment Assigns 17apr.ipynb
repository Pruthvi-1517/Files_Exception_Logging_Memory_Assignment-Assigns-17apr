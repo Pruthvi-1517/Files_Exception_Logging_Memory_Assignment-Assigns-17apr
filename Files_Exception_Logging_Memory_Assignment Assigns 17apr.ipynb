{
 "cells": [
  {
   "cell_type": "code",
   "execution_count": null,
   "id": "b4b584ca",
   "metadata": {},
   "outputs": [],
   "source": []
  },
  {
   "cell_type": "markdown",
   "id": "ec31ff70",
   "metadata": {},
   "source": [
    "📘 THEORY QUESTIONS WITH ANSWERS\n",
    "________________________________________\n",
    "1. What is the difference between interpreted and compiled languages?\n",
    "\n",
    "Interpreted languages execute code line-by-line (e.g., Python), while compiled languages translate the entire code into machine code before execution (e.g., C++).\n",
    "________________________________________\n",
    "2. What is exception handling in Python?\n",
    "\n",
    "\n",
    "Exception handling allows you to catch and manage errors using try, except, else, and finally blocks to prevent program crashes.\n",
    "________________________________________\n",
    "3. What is the purpose of the finally block in exception handling?\n",
    "\n",
    "\n",
    "It runs whether or not an exception occurred, usually for cleanup like closing files or releasing resources.\n",
    "________________________________________\n",
    "4. What is logging in Python?\n",
    "\n",
    "\n",
    "Logging helps track and record events/errors in a program, useful for debugging, auditing, and monitoring.\n",
    "________________________________________\n",
    "5. What is the significance of the __del__ method in Python?\n",
    "\n",
    "\n",
    "It’s a destructor method that gets called when an object is about to be destroyed, used for cleanup tasks.\n",
    "________________________________________\n",
    "6. What is the difference between import and from ... import in Python?\n",
    "\n",
    "\n",
    "import module brings in the whole module, while from module import x only brings in x from the module.\n",
    "________________________________________\n",
    "7. How can you handle multiple exceptions in Python?\n",
    "\n",
    "\n",
    "Use multiple except blocks or a tuple of exceptions in one block: except (TypeError, ValueError):\n",
    "________________________________________\n",
    "8. What is the purpose of the with statement when handling files in Python?\n",
    "\n",
    "\n",
    "It ensures files are closed automatically after block execution, even if an error occurs.\n",
    "________________________________________\n",
    "9. What is the difference between multithreading and multiprocessing?\n",
    "\n",
    "\n",
    "Multithreading runs tasks concurrently in one process (shared memory); multiprocessing runs in separate processes (separate memory).\n",
    "________________________________________\n",
    "10. What are the advantages of using logging in a program?\n",
    "\n",
    "\n",
    "•\tTracks events\n",
    "•\tDebugging aid\n",
    "•\tAuditing\n",
    "•\tNo disruption to program flow\n",
    "________________________________________\n",
    "11. What is memory management in Python?\n",
    "\n",
    "\n",
    "It includes memory allocation, deallocation, and garbage collection to optimize memory usage.\n",
    "________________________________________\n",
    "12. What are the basic steps involved in exception handling in Python?\n",
    "\n",
    "    1.\tTry block\n",
    "    2.\tExcept block(s)\n",
    "    3.\tOptional else block\n",
    "    4.\tOptional finally block\n",
    "________________________________________\n",
    "13. Why is memory management important in Python?\n",
    "\n",
    "\n",
    "It prevents memory leaks, ensures better performance, and avoids crashes in memory-heavy apps.\n",
    "________________________________________\n",
    "14. What is the role of try and except in exception handling?\n",
    "\n",
    "\n",
    "try contains code that might throw an error; except handles that error gracefully.\n",
    "________________________________________\n",
    "15. How does Python's garbage collection system work?\n",
    "\n",
    "\n",
    "It uses reference counting and a cyclic garbage collector to clean up unused objects.\n",
    "________________________________________\n",
    "16. What is the purpose of the else block in exception handling?\n",
    "\n",
    "\n",
    "It executes only if the try block doesn’t raise any exceptions.\n",
    "________________________________________\n",
    "17. What are the common logging levels in Python?\n",
    "\n",
    "\n",
    "•\tDEBUG\n",
    "•\tINFO\n",
    "•\tWARNING\n",
    "•\tERROR\n",
    "•\tCRITICAL\n",
    "________________________________________\n",
    "18. What is the difference between os.fork() and multiprocessing in Python?\n",
    "\n",
    "os.fork() (Unix only) directly creates a process; multiprocessing is portable and safer for most applications.\n",
    "________________________________________\n",
    "19. What is the importance of closing a file in Python?\n",
    "\n",
    "\n",
    "To release system resources and ensure data is written/saved properly.\n",
    "________________________________________\n",
    "20. What is the difference between file.read() and file.readline() in Python?\n",
    "\n",
    "\n",
    "•\tread() reads the entire file.\n",
    "•\treadline() reads one line at a time.\n",
    "________________________________________\n",
    "21. What is the logging module in Python used for?\n",
    "\n",
    "To record messages to a file or console during program execution.\n",
    "________________________________________\n",
    "22. What is the os module in Python used for in file handling?\n",
    "\n",
    "\n",
    "To interact with the operating system — path, directory, and file operations.\n",
    "________________________________________\n",
    "23. What are the challenges associated with memory management in Python?\n",
    "\n",
    "\n",
    "•\tCircular references\n",
    "•\tMemory leaks\n",
    "•\tPerformance hits with large data\n",
    "________________________________________\n",
    "24. How do you raise an exception manually in Python?\n",
    "\n",
    "\n",
    "Using raise:\n",
    "raise ValueError(\"Invalid input!\")\n",
    "________________________________________\n",
    "25. Why is it important to use multithreading in certain applications?\n",
    "\n",
    "\n",
    "It improves performance for I/O-bound tasks like web scraping, networking, or UI apps.\n",
    "\n"
   ]
  },
  {
   "cell_type": "markdown",
   "id": "0a2100b7",
   "metadata": {},
   "source": [
    "🧪 PRACTICAL QUESTIONS"
   ]
  },
  {
   "cell_type": "code",
   "execution_count": null,
   "id": "6795c836",
   "metadata": {},
   "outputs": [],
   "source": [
    "#Open a file for writing and write a string\n",
    "with open(\"example.txt\", \"w\") as f:\n",
    "    f.write(\"Hello, World!\")\n"
   ]
  },
  {
   "cell_type": "code",
   "execution_count": 3,
   "id": "0825ad93",
   "metadata": {},
   "outputs": [
    {
     "name": "stdout",
     "output_type": "stream",
     "text": [
      "Hello, World!\n"
     ]
    }
   ],
   "source": [
    "#Read contents of a file and print each line\n",
    "with open(\"example.txt\", \"r\") as f:\n",
    "    for line in f:\n",
    "        print(line.strip())\n"
   ]
  },
  {
   "cell_type": "code",
   "execution_count": 4,
   "id": "40f5df58",
   "metadata": {},
   "outputs": [
    {
     "name": "stdout",
     "output_type": "stream",
     "text": [
      "File not found.\n"
     ]
    }
   ],
   "source": [
    "#Handle non-existent file while reading\n",
    "try:\n",
    "    with open(\"nonexistent.txt\", \"r\") as f:\n",
    "        for line in f:\n",
    "            print(line.strip())\n",
    "except FileNotFoundError:\n",
    "    print(\"File not found.\")"
   ]
  },
  {
   "cell_type": "code",
   "execution_count": null,
   "id": "ddfeb197",
   "metadata": {},
   "outputs": [],
   "source": [
    "# Read from one file and write to another\n",
    "\n",
    "with open(\"source.txt\", \"r\") as src, open(\"destination.txt\", \"w\") as dest:\n",
    "    dest.write(src.read())\n"
   ]
  },
  {
   "cell_type": "code",
   "execution_count": 1,
   "id": "3df006e3",
   "metadata": {},
   "outputs": [
    {
     "name": "stdout",
     "output_type": "stream",
     "text": [
      "Cannot divide by zero!\n"
     ]
    }
   ],
   "source": [
    "#Catch division by zero error\n",
    "try:\n",
    "    result = 10 / 0\n",
    "except ZeroDivisionError:\n",
    "    print(\"Cannot divide by zero!\")\n"
   ]
  },
  {
   "cell_type": "code",
   "execution_count": 2,
   "id": "36f5ae60",
   "metadata": {},
   "outputs": [],
   "source": [
    "#Log division error to file\n",
    "import logging\n",
    "logging.basicConfig(filename=\"log.txt\", level=logging.ERROR)\n",
    "try:\n",
    "    1/0\n",
    "except ZeroDivisionError as e:\n",
    "    logging.error(\"Division by zero: %s\", e)\n"
   ]
  },
  {
   "cell_type": "code",
   "execution_count": 5,
   "id": "94811317",
   "metadata": {},
   "outputs": [],
   "source": [
    "#Log at different levels\n",
    "import logging\n",
    "logging.basicConfig(level=logging.DEBUG)\n",
    "logging.info(\"Info message\")\n",
    "logging.warning(\"Warning message\")\n",
    "logging.error(\"Error message\")\n"
   ]
  },
  {
   "cell_type": "code",
   "execution_count": 6,
   "id": "051c6a75",
   "metadata": {},
   "outputs": [
    {
     "name": "stdout",
     "output_type": "stream",
     "text": [
      "Error: [Errno 2] No such file or directory: 'maybe.txt'\n"
     ]
    }
   ],
   "source": [
    "#Handle file opening error\n",
    "try:\n",
    "    with open(\"maybe.txt\", \"r\") as f:\n",
    "        print(f.read())\n",
    "except Exception as e:\n",
    "    print(\"Error:\", e)\n"
   ]
  },
  {
   "cell_type": "code",
   "execution_count": 7,
   "id": "14f1907a",
   "metadata": {},
   "outputs": [],
   "source": [
    "# Read file line-by-line into list\n",
    "with open(\"example.txt\", \"r\") as f:\n",
    "    lines = f.readlines()\n"
   ]
  },
  {
   "cell_type": "code",
   "execution_count": 8,
   "id": "b2494b62",
   "metadata": {},
   "outputs": [],
   "source": [
    "#Append data to file\n",
    "with open(\"example.txt\", \"a\") as f:\n",
    "    f.write(\"\\nNew line\")\n"
   ]
  },
  {
   "cell_type": "code",
   "execution_count": 9,
   "id": "f6747e55",
   "metadata": {},
   "outputs": [
    {
     "name": "stdout",
     "output_type": "stream",
     "text": [
      "Key not found!\n"
     ]
    }
   ],
   "source": [
    "#Handle missing dictionary key\n",
    "try:\n",
    "    my_dict = {\"a\": 1}\n",
    "    print(my_dict[\"b\"])\n",
    "except KeyError:\n",
    "    print(\"Key not found!\")\n"
   ]
  },
  {
   "cell_type": "code",
   "execution_count": 10,
   "id": "a45869b8",
   "metadata": {},
   "outputs": [
    {
     "name": "stdout",
     "output_type": "stream",
     "text": [
      "Index error!\n"
     ]
    }
   ],
   "source": [
    "#Multiple except blocks\n",
    "try:\n",
    "    a = [1, 2]\n",
    "    print(a[5])\n",
    "except IndexError:\n",
    "    print(\"Index error!\")\n",
    "except KeyError:\n",
    "    print(\"Key error!\")\n"
   ]
  },
  {
   "cell_type": "code",
   "execution_count": 11,
   "id": "eba7e425",
   "metadata": {},
   "outputs": [],
   "source": [
    "#Check if file exists before reading\n",
    "import os\n",
    "if os.path.exists(\"maybe.txt\"):\n",
    "    with open(\"maybe.txt\") as f:\n",
    "        print(f.read())\n"
   ]
  },
  {
   "cell_type": "code",
   "execution_count": 12,
   "id": "21c7ca6d",
   "metadata": {},
   "outputs": [],
   "source": [
    "#Log info and error messages\n",
    "import logging\n",
    "logging.basicConfig(filename=\"log.txt\", level=logging.INFO)\n",
    "logging.info(\"This is info\")\n",
    "logging.error(\"This is error\")\n"
   ]
  },
  {
   "cell_type": "code",
   "execution_count": 13,
   "id": "3d754f54",
   "metadata": {},
   "outputs": [
    {
     "name": "stdout",
     "output_type": "stream",
     "text": [
      "Hello, World!\n",
      "New line\n"
     ]
    }
   ],
   "source": [
    "#Print content or detect empty file\n",
    "with open(\"example.txt\", \"r\") as f:\n",
    "    content = f.read()\n",
    "    if not content:\n",
    "        print(\"File is empty\")\n",
    "    else:\n",
    "        print(content)\n"
   ]
  },
  {
   "cell_type": "code",
   "execution_count": null,
   "id": "ea65d155",
   "metadata": {},
   "outputs": [],
   "source": [
    "#Memory profiling example\n",
    "from memory_profiler import profile\n",
    "\n",
    "@profile\n",
    "def my_func():\n",
    "    a = [i for i in range(10000)]\n",
    "    return a\n",
    "\n",
    "my_func()\n"
   ]
  },
  {
   "cell_type": "code",
   "execution_count": 15,
   "id": "fb647c74",
   "metadata": {},
   "outputs": [],
   "source": [
    "#Write list of numbers to file\n",
    "with open(\"numbers.txt\", \"w\") as f:\n",
    "    for i in range(10):\n",
    "        f.write(f\"{i}\\n\")\n"
   ]
  },
  {
   "cell_type": "code",
   "execution_count": 16,
   "id": "e240763c",
   "metadata": {},
   "outputs": [],
   "source": [
    "#Logging with file rotation\n",
    "import logging\n",
    "from logging.handlers import RotatingFileHandler\n",
    "\n",
    "handler = RotatingFileHandler(\"app.log\", maxBytes=1048576, backupCount=3)\n",
    "logging.basicConfig(handlers=[handler], level=logging.INFO)\n",
    "logging.info(\"Logging with rotation\")\n"
   ]
  },
  {
   "cell_type": "code",
   "execution_count": 17,
   "id": "501dca61",
   "metadata": {},
   "outputs": [
    {
     "name": "stdout",
     "output_type": "stream",
     "text": [
      "Caught IndexError\n",
      "Caught KeyError\n"
     ]
    }
   ],
   "source": [
    "# Handle IndexError and KeyError\n",
    "try:\n",
    "    a = [1, 2]\n",
    "    print(a[5])\n",
    "except IndexError:\n",
    "    print(\"Caught IndexError\")\n",
    "\n",
    "try:\n",
    "    d = {\"a\": 1}\n",
    "    print(d[\"b\"])\n",
    "except KeyError:\n",
    "    print(\"Caught KeyError\")\n"
   ]
  },
  {
   "cell_type": "code",
   "execution_count": null,
   "id": "888afd85",
   "metadata": {},
   "outputs": [],
   "source": [
    "#Open file using context manager\n",
    "with open(\"file.txt\", \"r\") as f:\n",
    "    content = f.read()\n",
    "    print(content)\n"
   ]
  },
  {
   "cell_type": "code",
   "execution_count": null,
   "id": "8740b483",
   "metadata": {},
   "outputs": [],
   "source": [
    "#Count occurrences of word in file\n",
    "word = \"hello\"\n",
    "with open(\"file.txt\", \"r\") as f:\n",
    "    text = f.read()\n",
    "print(text.count(word))\n"
   ]
  },
  {
   "cell_type": "code",
   "execution_count": null,
   "id": "9742d72d",
   "metadata": {},
   "outputs": [],
   "source": [
    "#Check if file is empty\n",
    "import os\n",
    "if os.stat(\"file.txt\").st_size == 0:\n",
    "    print(\"File is empty\")\n",
    "else:\n",
    "    with open(\"file.txt\") as f:\n",
    "        print(f.read())\n"
   ]
  },
  {
   "cell_type": "code",
   "execution_count": 21,
   "id": "a43cce4e",
   "metadata": {},
   "outputs": [],
   "source": [
    "# Log error during file handling\n",
    "import logging\n",
    "logging.basicConfig(filename=\"error_log.txt\", level=logging.ERROR)\n",
    "\n",
    "try:\n",
    "    with open(\"missing.txt\") as f:\n",
    "        pass\n",
    "except Exception as e:\n",
    "    logging.error(\"Error occurred: %s\", e)\n"
   ]
  },
  {
   "cell_type": "code",
   "execution_count": null,
   "id": "a78aacdc",
   "metadata": {},
   "outputs": [],
   "source": []
  },
  {
   "cell_type": "code",
   "execution_count": null,
   "id": "f961a114",
   "metadata": {},
   "outputs": [],
   "source": []
  }
 ],
 "metadata": {
  "kernelspec": {
   "display_name": "Python 3",
   "language": "python",
   "name": "python3"
  },
  "language_info": {
   "codemirror_mode": {
    "name": "ipython",
    "version": 3
   },
   "file_extension": ".py",
   "mimetype": "text/x-python",
   "name": "python",
   "nbconvert_exporter": "python",
   "pygments_lexer": "ipython3",
   "version": "3.13.3"
  }
 },
 "nbformat": 4,
 "nbformat_minor": 5
}
